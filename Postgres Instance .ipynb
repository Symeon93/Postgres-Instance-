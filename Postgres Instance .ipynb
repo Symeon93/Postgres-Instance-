{
 "cells": [
  {
   "cell_type": "markdown",
   "metadata": {},
   "source": [
    "<h3>\n",
    "    Crimes reported at Boston in 2018\n",
    "</h3>\n",
    "<p>\n",
    "    In this project our purpose is to create a database and a schema using \n",
    "    Postgres where we will load the reported crimes happening in Boston area\n",
    "    during calendar year 2018.\n",
    "</p>\n",
    "<p>\n",
    "    After investigating the data types of the csv file we create an appropriate\n",
    "    table for the storage of our data. Next, we create the groups\n",
    "    with the appropriate priviliges (<b>readonly, readwrite </b>) and\n",
    "    assign the created users on each group (inheriting the group's priviliges).\n",
    "    Here we have to be careful as priviliges are inherited from higher groups,\n",
    "    that said, every user in the <em>public</em> group can still have permission \n",
    "    to read/write in tables within public schema.\n",
    "</p>\n",
    "<p>\n",
    "    A wonderful link describing the process can also be found at:\n",
    "    <a href=\"https://aws.amazon.com/blogs/database/managing-postgresql-users-and-roles/\">Managing PostgreSQL Users and Roles</a>\n",
    "</p>"
   ]
  },
  {
   "cell_type": "code",
   "execution_count": 2,
   "metadata": {},
   "outputs": [],
   "source": [
    "import psycopg2\n",
    "import csv\n",
    "import timeit\n",
    "import numpy as np\n",
    "import datetime"
   ]
  },
  {
   "cell_type": "code",
   "execution_count": 3,
   "metadata": {},
   "outputs": [
    {
     "name": "stdout",
     "output_type": "stream",
     "text": [
      "[['incident_number', 'offense_code', 'description', 'date', 'day_of_the_week', 'lat', 'long']] \n",
      " [['1', '619', 'LARCENY ALL OTHERS', '2018-09-02', 'Sunday', '42.35779134', '-71.13937053']]\n"
     ]
    }
   ],
   "source": [
    "header = []\n",
    "values_inspection = []\n",
    "with open ('boston.csv', 'r') as file:\n",
    "    reader = csv.reader(file)\n",
    "    crime_values = [value for value in reader]\n",
    "header.append(crime_values[0]) # inspection of the header \n",
    "values_inspection.append(crime_values[1]) # inspection of the data types of our file \n",
    "print(header,'\\n' ,values_inspection)\n",
    "#  usually upon loading of a file within another program some data types \n",
    "#  may change, therefore, it is always advisable to check the datatypes which \n",
    "#  we are working with (e.g. in this occasion the format of dd-mm--yyyy changed to\n",
    "#  yyyyy--mm--dd)"
   ]
  },
  {
   "cell_type": "code",
   "execution_count": 4,
   "metadata": {},
   "outputs": [],
   "source": [
    "def countable_set(name_of_file,column_index):  # create a function for parsing the file\n",
    "    parsing_list = []                          # and outputting the elements of a column \n",
    "    with open(name_of_file, 'r') as file:\n",
    "        next(file) #jump the header\n",
    "        reader = csv.reader(file)\n",
    "        for row in reader:\n",
    "            parsing_list.append(row[column_index])\n",
    "    return list(set(parsing_list)) # this is our unique_list\n",
    "\n",
    "# In general a csv file may have as its columns a countable set of values (e.g. like days of the\n",
    "# week). In this occasion we run a function to find all the unique values in that column and store \n",
    "# it in a list, call it unique_list. This will allow us to create a column constrained to receive\n",
    "# only the values within the unique_list upon insertion of any new data."
   ]
  },
  {
   "cell_type": "code",
   "execution_count": 5,
   "metadata": {},
   "outputs": [
    {
     "name": "stdout",
     "output_type": "stream",
     "text": [
      "298329\n",
      "219\n",
      "239\n",
      "1177\n",
      "7\n",
      "18177\n",
      "18177\n"
     ]
    }
   ],
   "source": [
    "length_of_row = len(crime_values[0])\n",
    "for i in range(0,length_of_row):\n",
    "    print(len(countable_set('boston.csv', i))) # check the number of unique elements within each \n",
    "                                               # column. Good candidates for enumerated types \n",
    "                                               # are columns with indices 1,2,4"
   ]
  },
  {
   "cell_type": "code",
   "execution_count": 6,
   "metadata": {},
   "outputs": [
    {
     "name": "stdout",
     "output_type": "stream",
     "text": [
      "['2010', '1602', '402', '2629', '2407', '3203', '3303', '522', '614', '1841', '3805', '2623', '1300', '2663', '3207', '2204', '2401', '629', '3110', '432', '530', '311', '1501', '3123', '3208', '2604', '562', '540', '3201', '3122', '315', '633', '3502', '3830', '2914', '2622', '1304', '2660', '670', '727', '541', '3302', '2662', '3002', '2007', '2664', '3620', '2619', '2900', '724', '1601', '770', '3006', '561', '1107', '3125', '3305', '616', '3007', '381', '3503', '624', '2647', '3004', '413', '2605', '123', '527', '1620', '637', '1845', '2003', '3109', '403', '2610', '1830', '615', '1415', '2609', '404', '900', '627', '3018', '2657', '112', '1402', '2641', '1844', '2910', '617', '3008', '1510', '2628', '1807', '639', '1863', '2613', '3820', '1866', '3803', '3114', '2646', '2905', '2617', '3501', '351', '802', '2612', '3016', '3001', '2102', '618', '520', '2648', '1806', '339', '1874', '1102', '1848', '2631', '2907', '3402', '3119', '3301', '1901', '3304', '1847', '349', '3106', '611', '2611', '1603', '3802', '3807', '511', '3625', '1503', '2618', '3115', '3205', '2101', '1605', '1201', '560', '3116', '2642', '547', '2511', '1864', '2632', '1870', '3801', '3831', '1831', '619', '1805', '1832', '371', '1843', '3810', '612', '111', '803', '3202', '623', '3029', '714', '3811', '1815', '2670', '1108', '3112', '2906', '3160', '2608', '1825', '1849', '1502', '735', '3130', '1001', '423', '361', '3821', '1610', '335', '1105', '1846', '1002', '1850', '1106', '3102', '1504', '301', '2636', '121', '801', '2005', '521', '2004', '1810', '2403', '804', '1302', '2006', '2616', '2405', '3108', '1842', '706', '542', '3403', '2672', '3111', '613', '1109', '2606', '3410', '3170'] \n",
      "\n",
      " ['B&E RESIDENCE DAY - NO FORCE', 'ROBBERY - UNARMED - CHAIN STORE', 'WEAPON - OTHER - OTHER VIOLATION', 'AUTO THEFT - RECOVERED IN BY POLICE', 'LARCENY SHOPLIFTING UNDER $50', 'LARCENY SHOPLIFTING', 'NOISY PARTY/RADIO-ARREST', 'BURGLARY - COMMERICAL - FORCE', 'LARCENY THEFT OF MV PARTS & ACCESSORIES', 'MANSLAUGHTER - VEHICLE - NEGLIGENCE', 'REPORT AFFECTING OTHER DEPTS.', 'BURGLARY - RESIDENTIAL - FORCE', 'KILLING OF FELON BY POLICE', 'TOWED MOTOR VEHICLE', 'PROTECTIVE CUSTODY / SAFEKEEPING', 'AUTO THEFT - LEASED/RENTED VEHICLE', 'M/V ACCIDENT - OTHER', 'B&E NON-RESIDENCE DAY - FORCIBLE', 'RECOVERED STOLEN PLATE', 'WEAPON - FIREARM - SALE / TRAFFICKING', 'INVESTIGATION FOR ANOTHER AGENCY', 'FIREARM/WEAPON - FOUND OR CONFISCATED', 'INJURY BICYCLE NO M/V INVOLVED', 'CHILD ABUSE', 'PROPERTY - FOUND', 'SUICIDE / SUICIDE ATTEMPT', 'DRUGS - SICK ASSIST - OTHER HARMFUL DRUG', 'CRIMINAL HARASSMENT', 'B&E NON-RESIDENCE NIGHT - FORCE', 'BURGLARY - RESIDENTIAL - NO FORCE', 'SERVICE TO OTHER PD INSIDE OF MA.', 'LARCENY OTHER $50 TO $199', 'LARCENY THEFT FROM BUILDING', 'ARSON', 'LIQUOR LAW VIOLATION', 'LARCENY OTHER $200 & OVER', 'PROPERTY - MISSING', 'BURGLARY - RESIDENTIAL - ATTEMPT', 'SICK/INJURED/MEDICAL - POLICE', 'DRUGS - POSS CLASS A - HEROIN, ETC.', 'LARCENY PICK-POCKET', 'DRUGS - GLUE INHALATION', 'FORGERY / COUNTERFEITING', 'PROPERTY - STOLEN THEN RECOVERED', 'DRUGS - CLASS D TRAFFICKING OVER 50 GRAMS', 'AUTO THEFT - MOTORCYCLE / SCOOTER', 'LARCENY ALL OTHERS', 'INTIMIDATING WITNESS', 'OPERATING UNDER THE INFLUENCE ALCOHOL', 'FIREARM/WEAPON - LOST', 'ASSAULT & BATTERY D/W - OTHER ON POLICE OFFICER', 'LARCENY OTHER UNDER $50', 'DRUGS - CONSP TO VIOL CONTROLLED SUBSTANCE', 'CHILD ENDANGERMENT', 'BURGLARY - OTHER - ATTEMPT', 'B&E NON-RESIDENCE DAY - NO PROP TAKEN', 'M/V ACCIDENT - OTHER CITY VEHICLE', 'M/V ACCIDENT - INVOLVING PEDESTRIAN - NO INJURY', 'ROBBERY - CAR JACKING', 'WEAPON - FIREARM - CARRYING / POSSESSING, ETC', 'ROBBERY - HOME INVASION', 'FIRE REPORT/ALARM - FALSE', 'KIDNAPPING/CUSTODIAL KIDNAPPING', 'FRAUD - CREDIT CARD / ATM FRAUD', 'ASSAULT & BATTERY D/W - KNIFE', 'MISSING PERSON - LOCATED', 'ANNOYING AND ACCOSTIN', 'ROBBERY - BANK', 'DRUGS - POSS CLASS C - INTENT TO MFR DIST DISP', 'DRUGS - CLASS A TRAFFICKING OVER 18 GRAMS', 'DRUGS - POSS CLASS C', 'VERBAL DISPUTE', 'VIOLATION - RESTRAINING ORDER', 'LARCENY IN A BUILDING UNDER $50', 'EXTORTION OR BLACKMAIL', 'VAL - OPERATING UNREG/UNINS Β\\xa0CAR', 'A&B HANDS, FEET, ETC.  - MED. ATTENTION REQ.', 'ROBBERY - COMMERCIAL', 'LARCENY THEFT FROM COIN-OP MACHINE', 'INVESTIGATE PERSON', 'EXPLOSIVES - POSSESSION OR USE', 'PROPERTY - CONCEALING LEASED', 'THREATS TO DO BODILY HARM', 'FIREARM/WEAPON - POSSESSION OF DANGEROUS', 'DRUGS - POSS CLASS B - INTENT TO MFR DIST DISP', 'VAL - OPERATING W/O AUTHORIZATION LAWFUL', 'CHINS', 'VIOL. OF RESTRAINING ORDER W ARREST', 'AIRCRAFT INCIDENTS', 'DRUGS - POSS CLASS D - INTENT TO MFR DIST DISP', 'VAL - VIOLATION OF AUTO LAW - OTHER', 'ROBBERY - OTHER', 'BURGLARY - OTHER - FORCE', 'M/V PLATES - LOST', 'ANIMAL CONTROL - DOG BITES - ETC.', 'M/V - LEAVING SCENE - PERSONAL INJURY', 'STOLEN PROPERTY - BUYING / RECEIVING / POSSESSING', 'GRAFFITI', 'CUSTODIAL KIDNAPPING', 'ASSAULT D/W - OTHER', 'DISORDERLY PERSON', 'DRUGS - OTHER', 'GAMBLING - BETTING / WAGERING', 'FRAUD - WELFARE', 'VAL - OPERATING WITHOUT LICENSE', 'LANDLORD - TENANT SERVICE', 'B&E RESIDENCE DAY - NO PROP TAKEN', 'ASSAULT & BATTERY D/W - OTHER', 'PROSTITUTION', 'LARCENY SHOPLIFTING $200 & OVER', 'PROPERTY - RECEIVING STOLEN', 'WARRANT ARREST', 'LARCENY BICYCLE $200 & OVER', 'LARCENY SHOPLIFTING $50 TO $199', 'HUMAN TRAFFICKING - INVOLUNTARY SERVITUDE', 'ASSAULT - AGGRAVATED - BATTERY', 'FIRE REPORT - CAR, BRUSH, ETC.', 'PROSTITUTE - COMMON NIGHTWALKER', 'ASSAULT - AGGRAVATED', 'FRAUD - IMPERSONATION', 'MISSING PERSON', 'PROSTITUTION - ASSISTING OR PROMOTING', 'ASSAULT SIMPLE - BATTERY', 'WEAPON - FIREARM - OTHER VIOLATION', 'DRUGS - POSS CLASS E', 'POSSESSION OF BURGLARIOUS TOOLS', 'HARBOR INCIDENT / VIOLATION', 'ASSAULT & BATTERY', 'FUGITIVE FROM JUSTICE', 'DRUGS - POSS CLASS A - HEROIN, ETC. ', 'OPERATING UNDER THE INFLUENCE DRUGS', 'FRAUDS - ALL OTHER', 'INVESTIGATE PROPERTY', 'LARCENY PURSE SNATCH - NO FORCE ', 'FORGERY OR UTTERING', 'SUDDEN DEATH', 'ANIMAL ABUSE', 'PROPERTY - LOST', 'AUTO THEFT OTHER', 'OTHER OFFENSE', 'DEATH INVESTIGATION', 'PRISONER ESCAPE / ESCAPE & RECAPTURE', 'ROBBERY - UNARMED - STREET', 'RECOVERED - MV RECOVERED IN BOSTON (STOLEN OUTSIDE BOSTON)', 'ABDUCTION - INTICING', 'M/V ACCIDENT - INVOLVING BICYCLE - NO INJURY', 'CHILD ABANDONMENT (NO ASSAULT)', 'MANSLAUGHTER - NON-VEHICLE - NEGLIGENCE', 'DRUGS - POSSESSION', 'FRAUD - WIRE', 'VAL - OPERATING AFTER REV/SUSP.', 'PROPERTY - ACCIDENTAL DAMAGE', 'FIREARM/WEAPON - CARRY - SELL - RENT', 'ROBBERY - KNIFE - STREET', 'MISSING PERSON - NOT REPORTED - LOCATED', 'AFFRAY', 'FRAUD - FALSE PRETENSE', 'DRUGS - SALE / MANUFACTURING', 'HUMAN TRAFFICKING - COMMERCIAL SEX ACTS', 'BALLISTICS EVIDENCE/FOUND', 'LIQUOR - DRINKING IN PUBLIC', 'EXPLOSIVES - TURNED IN OR FOUND', 'VIOL. OF RESTRAINING ORDER W NO ARREST', 'HARASSMENT', 'DRUGS - POSS CLASS A - INTENT TO MFR DIST DISP', 'ASSAULT - SIMPLE', 'BOMB THREAT', 'PROSTITUTION - SOLICITING', 'WEAPON - OTHER - CARRYING / POSSESSING, ETC', 'VIOLATION - HAWKER AND PEDDLER', 'OBSCENE MATERIALS - PORNOGRAPHY', 'BIOLOGICAL THREATS', 'DRUGS - SICK ASSIST - OTHER NARCOTIC', 'OBSCENE PHONE CALLS', 'SEARCH WARRANT', 'M/V - LEAVING SCENE - PROPERTY DAMAGE', 'BURGLARY - COMMERICAL - NO FORCE', 'AUTO THEFT LEASE/RENT VEHICLE', 'VANDALISM', 'DEMONSTRATIONS/RIOT', 'ANIMAL INCIDENTS', 'DANGEROUS OR HAZARDOUS CONDITION', 'DISTURBING THE PEACE', 'M/V ACCIDENT - PROPERTY Β\\xa0DAMAGE', 'M/V ACCIDENT - PERSONAL INJURY', 'GATHERING CAUSING ANNOYANCE', 'ROBBERY - STREET', 'NOISY PARTY/RADIO-NO ARREST', 'FIRE REPORT - HOUSE, BUILDING, ETC.', 'EMBEZZLEMENT', 'PRISONER - SUICIDE / SUICIDE ATTEMPT', 'DRUGS - POSS CLASS D - MARIJUANA, ETC.', 'M/V ACCIDENT INVOLVING PEDESTRIAN - INJURY', 'DRUGS - CLASS B TRAFFICKING OVER 18 GRAMS', 'ANNOYING AND ACCOSTING', 'CONTRIBUTING TO DELINQUENCY OF MINOR', 'TRUANCY / RUNAWAY', 'BURGLARY - COMMERICAL - ATTEMPT', 'DISORDERLY CONDUCT', 'DRUGS - POSSESSION OF DRUG PARAPHANALIA', 'DRUGS - POSS CLASS D', 'DRUGS - SICK ASSIST - HEROIN', 'PRISONER ATTEMPT TO RESCUE', 'A&B ON POLICE OFFICER', 'FRAUD - FALSE PRETENSE / SCHEME', 'STALKING', 'LARCENY THEFT FROM MV - NON-ACCESSORY', 'PROPERTY - LOST THEN LOCATED', 'FIREARM/WEAPON - ACCIDENTAL INJURY / DEATH', 'ROBBERY ATTEMPT - KNIFE - BANK', 'DRUGS - POSS CLASS D - INTENT MFR DIST DISP', 'KIDNAPPING - ENTICING OR ATTEMPTED', 'LARCENY NON-ACCESSORY FROM VEH. $50 TO $199', 'LICENSE PREMISE VIOLATION', 'HOME INVASION', 'SERVICE TO OTHER PD OUTSIDE OF MA.', 'B&E RESIDENCE NIGHT - ATTEMPT FORCE', 'VIOLATION - CITY ORDINANCE', 'BURGLARY - OTHER - NO FORCE', 'DRUGS - POSS CLASS B - COCAINE, ETC.', 'AUTO THEFT - OUTSIDE - RECOVERED IN BOSTON', 'DRUGS - POSS CLASS E INTENT TO MF DIST DISP', 'AUTO THEFT', 'VIOLATION - CITY ORDINANCE CONSTRUCTION PERMIT', 'LARCENY IN A BUILDING $200 & OVER', 'B&E NON-RESIDENCE DAY - NO FORCE', 'MURDER, NON-NEGLIGIENT MANSLAUGHTER', 'EVADING FARE', 'DRUGS - POSS CLASS E - INTENT TO MFR DIST DISP', 'M/V ACCIDENT - POLICE VEHICLE', 'CHILD ENDANGERMENT (NO ASSAULT)', 'CONSPIRACY EXCEPT DRUG LAW', 'SICK/INJURED/MEDICAL - PERSON', 'LARCENY THEFT OF BICYCLE', 'LARCENY IN A BUILDING $50 TO $199', 'PROSTITUTION - COMMON NIGHTWALKER', 'M/V ACCIDENT - INVOLVING Β\\xa0BICYCLE - INJURY', 'ASSAULT D/W - KNIFE ON POLICE OFFICER', 'TRESPASSING'] \n",
      "\n",
      " ['Monday', 'Wednesday', 'Saturday', 'Sunday', 'Friday', 'Thursday', 'Tuesday'] \n",
      "\n",
      "\n"
     ]
    }
   ],
   "source": [
    "offence_code = countable_set('boston.csv', 1)\n",
    "description = countable_set('boston.csv', 2)\n",
    "day_of_the_week = countable_set('boston.csv', 4)\n",
    "print(offence_code, '\\n\\n', description, '\\n\\n', day_of_the_week, '\\n\\n')"
   ]
  },
  {
   "cell_type": "code",
   "execution_count": 14,
   "metadata": {},
   "outputs": [
    {
     "name": "stdout",
     "output_type": "stream",
     "text": [
      "9 \t 58\n"
     ]
    }
   ],
   "source": [
    "# offence_code is just a 4-digit number so it's enough to store it as int of appropriate\n",
    "# byte capacity \n",
    "\n",
    "length_description = [len(element) for element in description]\n",
    "length_description.sort() # sort in terms of length, last element is the one with the largest \n",
    "                          # length\n",
    "max_description_length = length_description[-1]  # this is the last element \n",
    "\n",
    "max_day_of_the_week = 0\n",
    "for element in day_of_the_week:  # similarly we find the max length for 'day_of_the_week' \n",
    "    max_day_of_the_week = max(max_day_of_the_week, len(element))\n",
    "print(max_day_of_the_week, '\\t', max_description_length)\n",
    "\n",
    "# the values of max_description_length and max_day_of_the_week could be the argunments for \n",
    "# a VARCHAR() type, in case we decide to store them as text of type VARCHAR()"
   ]
  },
  {
   "cell_type": "code",
   "execution_count": 28,
   "metadata": {},
   "outputs": [],
   "source": [
    "conn = psycopg2.connect(dbname = 'postgres', user = 'postgres', password = 'durham17')\n",
    "cur = conn.cursor()\n",
    "conn.autocommit = True \n",
    "cur.execute('CREATE DATABASE crimes_db OWNER postgres')\n",
    "conn.autocommit = False\n",
    "conn.close()  \n",
    "\n",
    "# First, we establish a connection to create a new database, since \n",
    "# in a transactional block commands are commited at once, we would\n",
    "# like to commit the CREATE DATABASE option on its own, hence \n",
    "# we turned on the autocommit option."
   ]
  },
  {
   "cell_type": "code",
   "execution_count": 7,
   "metadata": {},
   "outputs": [],
   "source": [
    "conn = psycopg2.connect(dbname = 'crimes_db', user = 'postgres', password = 'durham17')\n",
    "cur = conn.cursor()\n",
    "cur.execute('CREATE SCHEMA crimes')\n"
   ]
  },
  {
   "cell_type": "code",
   "execution_count": 8,
   "metadata": {},
   "outputs": [],
   "source": [
    "cur.execute('''  \n",
    "                CREATE TYPE day_of_the_week AS ENUM \n",
    "                ('Monday', 'Tuesday', 'Wednesday', 'Thursday', 'Friday', 'Saturday', 'Sunday')\n",
    "            ''')"
   ]
  },
  {
   "cell_type": "code",
   "execution_count": 9,
   "metadata": {},
   "outputs": [],
   "source": [
    "cur.execute('''\n",
    "             CREATE TABLE crimes.boston_crimes(\n",
    "                incidenent_number integer PRIMARY KEY,\n",
    "                offence_codes smallint,\n",
    "                desciption VARCHAR(58),\n",
    "                date DATE,\n",
    "                weekday day_of_the_week,\n",
    "                lat real,\n",
    "                long real\n",
    "                \n",
    "             )\n",
    "            ''')"
   ]
  },
  {
   "cell_type": "markdown",
   "metadata": {},
   "source": [
    "<p> \n",
    "   Our choices are based on the documentation of Postgres for its datatypes\n",
    "   <a href='https://www.postgresql.org/docs/9.2/datatype-numeric.html'> Datatypes documentation </a>\n",
    "</p>\n",
    "        \n",
    "<p>\n",
    "    i.e. a small int is a datatype of 2 bytes,integer is datatype 0f 4 bytes, VARCHAR(58) takes into \n",
    "    account the maximum length of the entry\n",
    "    desciption, which is 58;  DATE is the normal \n",
    "    format for date. Finally, real is a float datatype of 6 digits precision which for longtitude and \n",
    "    latitude is enough.\n",
    "</p>"
   ]
  },
  {
   "cell_type": "code",
   "execution_count": 10,
   "metadata": {},
   "outputs": [],
   "source": [
    "with open('boston.csv', 'r') as file:\n",
    "    cur.copy_expert('COPY crimes.boston_crimes FROM STDIN WITH CSV HEADER;', file)\n",
    "\n",
    "                                                       \n"
   ]
  },
  {
   "cell_type": "markdown",
   "metadata": {},
   "source": [
    "<h3> Revoke all priviliges from public users </h3>"
   ]
  },
  {
   "cell_type": "code",
   "execution_count": 11,
   "metadata": {},
   "outputs": [],
   "source": [
    "cur.execute('REVOKE ALL ON SCHEMA public FROM public') # revoke all priviliges from public \n",
    "                                                       # users on public schemas\n",
    "\n",
    "cur.execute('REVOKE ALL ON DATABASE crimes_db FROM public') # no user from the public group \n",
    "                                                            # can connect to the database"
   ]
  },
  {
   "cell_type": "markdown",
   "metadata": {},
   "source": [
    "<h3> Readonly group priviliges </h3>"
   ]
  },
  {
   "cell_type": "code",
   "execution_count": 12,
   "metadata": {},
   "outputs": [],
   "source": [
    "cur.execute('CREATE GROUP readonly NOLOGIN;') \n",
    "cur.execute('GRANT CONNECT ON DATABASE crimes_db TO readonly')\n",
    "cur.execute('GRANT USAGE ON SCHEMA crimes TO readonly')\n",
    "cur.execute('GRANT SELECT ON ALL TABLES IN SCHEMA crimes TO readonly')\n",
    "cur.execute('ALTER DEFAULT PRIVILEGES IN SCHEMA crimes GRANT SELECT ON TABLES TO readonly')\n",
    "# the readonly group has access to the existing tables, therefore, to allow the group users\n",
    "# read data from new tables within the schema we redefine the default priviliges in \n",
    "# Postgres for the specific schema"
   ]
  },
  {
   "cell_type": "markdown",
   "metadata": {},
   "source": [
    "<h3> Readwrite group priviliges </h3>"
   ]
  },
  {
   "cell_type": "code",
   "execution_count": 13,
   "metadata": {},
   "outputs": [],
   "source": [
    "cur.execute('CREATE GROUP readwrite NOLOGIN')\n",
    "cur.execute('GRANT CONNECT ON DATABASE crimes_db TO readwrite')\n",
    "cur.execute('GRANT USAGE, CREATE ON SCHEMA crimes TO readwrite')\n",
    "cur.execute('GRANT SELECT, INSERT, DELETE, UPDATE ON ALL TABLES IN SCHEMA crimes TO readwrite')\n",
    "cur.execute('''\n",
    "            ALTER DEFAULT PRIVILEGES IN SCHEMA crimes GRANT SELECT, INSERT, UPDATE, DELETE ON \n",
    "            TABLES TO readwrite;\n",
    "            ''')"
   ]
  },
  {
   "cell_type": "markdown",
   "metadata": {},
   "source": [
    "<h3> Create users </h3>"
   ]
  },
  {
   "cell_type": "code",
   "execution_count": 14,
   "metadata": {},
   "outputs": [],
   "source": [
    "cur.execute(\"CREATE USER data_analyst WITH PASSWORD 'durham28&'\" )\n",
    "cur.execute('GRANT readonly TO data_analyst')\n",
    "cur.execute(\"CREATE USER data_engineer WITH PASSWORD 'durham29&'\")\n",
    "cur.execute('GRANT readwrite TO data_engineer')"
   ]
  },
  {
   "cell_type": "markdown",
   "metadata": {},
   "source": [
    "<h3> TEST </h3>"
   ]
  },
  {
   "cell_type": "code",
   "execution_count": 15,
   "metadata": {},
   "outputs": [
    {
     "name": "stdout",
     "output_type": "stream",
     "text": [
      "[('postgres', 10, True, True, True, True, '********', None, None), ('data_analyst', 16607, False, False, False, False, '********', None, None), ('data_engineer', 16608, False, False, False, False, '********', None, None)]\n"
     ]
    }
   ],
   "source": [
    "cur.execute('SELECT * FROM pg_user')\n",
    "users = cur.fetchall()\n",
    "all_users = [user for user in users]\n",
    "print(all_users) #check the users \n"
   ]
  },
  {
   "cell_type": "code",
   "execution_count": 16,
   "metadata": {},
   "outputs": [
    {
     "name": "stdout",
     "output_type": "stream",
     "text": [
      "[('readonly', 'SELECT'), ('readwrite', 'INSERT'), ('readwrite', 'SELECT'), ('readwrite', 'UPDATE'), ('readwrite', 'DELETE')]\n"
     ]
    },
    {
     "data": {
      "text/plain": [
       "<function connection.close>"
      ]
     },
     "execution_count": 16,
     "metadata": {},
     "output_type": "execute_result"
    }
   ],
   "source": [
    "cur.execute('''SELECT grantee, privilege_type\n",
    "    FROM information_schema.table_privileges\n",
    "    WHERE grantee IN  ('readwrite', 'readonly');\n",
    "    ''')  \n",
    "\n",
    "priviliges_readonly_readwrite = cur.fetchall()\n",
    "print(priviliges_readonly_readwrite)  #check the user's priviliges\n",
    "conn.close\n"
   ]
  },
  {
   "cell_type": "code",
   "execution_count": 17,
   "metadata": {},
   "outputs": [
    {
     "name": "stdout",
     "output_type": "stream",
     "text": [
      "[('crimes_db', 'crimes', 'boston_crimes')]\n"
     ]
    }
   ],
   "source": [
    "cur.execute('''\n",
    "            SELECT \n",
    "                table_catalog,\n",
    "                table_schema,\n",
    "                table_name\n",
    "            FROM information_schema.tables \n",
    "            WHERE table_schema = 'crimes'\n",
    "            ''')\n",
    "\n",
    "all_tables = cur.fetchall()\n",
    "print(all_tables)  # check the schema design within the database  "
   ]
  },
  {
   "cell_type": "code",
   "execution_count": 18,
   "metadata": {},
   "outputs": [
    {
     "name": "stdout",
     "output_type": "stream",
     "text": [
      "[(1, 619, 'LARCENY ALL OTHERS', datetime.date(2018, 9, 2), 'Sunday', 42.35779, -71.13937), (2, 1402, 'VANDALISM', datetime.date(2018, 8, 21), 'Tuesday', 42.30682, -71.0603), (3, 3410, 'TOWED MOTOR VEHICLE', datetime.date(2018, 9, 3), 'Monday', 42.34659, -71.072426), (4, 3114, 'INVESTIGATE PROPERTY', datetime.date(2018, 9, 3), 'Monday', 42.334183, -71.07867), (5, 3114, 'INVESTIGATE PROPERTY', datetime.date(2018, 9, 3), 'Monday', 42.275364, -71.09036), (6, 3820, 'M/V ACCIDENT INVOLVING PEDESTRIAN - INJURY', datetime.date(2018, 9, 3), 'Monday', 42.290195, -71.07159), (7, 724, 'AUTO THEFT', datetime.date(2018, 9, 3), 'Monday', 42.306072, -71.08273), (8, 3301, 'VERBAL DISPUTE', datetime.date(2018, 9, 3), 'Monday', 42.327015, -71.10555), (9, 301, 'ROBBERY - STREET', datetime.date(2018, 9, 3), 'Monday', 42.33152, -71.070854), (10, 3301, 'VERBAL DISPUTE', datetime.date(2018, 9, 3), 'Monday', 42.295147, -71.05861)]\n"
     ]
    }
   ],
   "source": [
    "cur.execute('''\n",
    "            SELECT * FROM crimes.boston_crimes\n",
    "            LIMIT 10 \n",
    "            ''') \n",
    "\n",
    "first_ten_rows = cur.fetchall()\n",
    "print(first_ten_rows) #check the first 10 rows "
   ]
  },
  {
   "cell_type": "code",
   "execution_count": 19,
   "metadata": {
    "scrolled": true
   },
   "outputs": [
    {
     "name": "stdout",
     "output_type": "stream",
     "text": [
      "[(298329, 3125, 'WARRANT ARREST', datetime.date(2015, 6, 22), 'Monday', 42.33384, -71.08029), (298328, 3125, 'WARRANT ARREST', datetime.date(2016, 5, 31), 'Tuesday', 42.302334, -71.111565), (298327, 3125, 'WARRANT ARREST', datetime.date(2015, 7, 9), 'Thursday', 42.255928, -71.12317), (298326, 111, 'MURDER, NON-NEGLIGIENT MANSLAUGHTER', datetime.date(2015, 7, 9), 'Thursday', 42.255928, -71.12317), (298325, 3125, 'WARRANT ARREST', datetime.date(2016, 6, 5), 'Sunday', 42.336952, -71.08575), (298324, 3125, 'WARRANT ARREST', datetime.date(2018, 1, 27), 'Saturday', 42.322838, -71.10097), (298323, 1864, 'DRUGS - POSS CLASS D - INTENT MFR DIST DISP', datetime.date(2018, 1, 27), 'Saturday', 42.322838, -71.10097), (298322, 1849, 'DRUGS - POSS CLASS B - COCAINE, ETC.', datetime.date(2015, 8, 12), 'Wednesday', 42.35231, -71.063705), (298321, 1848, 'DRUGS - POSS CLASS B - INTENT TO MFR DIST DISP', datetime.date(2015, 8, 12), 'Wednesday', 42.35231, -71.063705), (298320, 3125, 'WARRANT ARREST', datetime.date(2015, 8, 12), 'Wednesday', 42.35231, -71.063705)]\n"
     ]
    }
   ],
   "source": [
    "cur.execute('''\n",
    "            SELECT * FROM crimes.boston_crimes\n",
    "            ORDER BY 1 DESC\n",
    "            LIMIT 10 \n",
    "            ''')\n",
    "last_ten_rows = cur.fetchall()\n",
    "print(last_ten_rows) #check the last 10 rows "
   ]
  },
  {
   "cell_type": "code",
   "execution_count": 20,
   "metadata": {},
   "outputs": [],
   "source": [
    "conn.commit()\n",
    "conn.close()"
   ]
  },
  {
   "cell_type": "code",
   "execution_count": null,
   "metadata": {},
   "outputs": [],
   "source": []
  }
 ],
 "metadata": {
  "gist": {
   "data": {
    "description": "Project - Working with Databases/Postgres Instance .ipynb",
    "public": false
   },
   "id": ""
  },
  "kernelspec": {
   "display_name": "Python 3",
   "language": "python",
   "name": "python3"
  },
  "language_info": {
   "codemirror_mode": {
    "name": "ipython",
    "version": 3
   },
   "file_extension": ".py",
   "mimetype": "text/x-python",
   "name": "python",
   "nbconvert_exporter": "python",
   "pygments_lexer": "ipython3",
   "version": "3.7.6"
  },
  "toc": {
   "base_numbering": 1,
   "nav_menu": {},
   "number_sections": true,
   "sideBar": true,
   "skip_h1_title": false,
   "title_cell": "Table of Contents",
   "title_sidebar": "Contents",
   "toc_cell": false,
   "toc_position": {},
   "toc_section_display": true,
   "toc_window_display": false
  }
 },
 "nbformat": 4,
 "nbformat_minor": 4
}
